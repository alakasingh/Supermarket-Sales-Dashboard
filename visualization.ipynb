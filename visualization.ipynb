{
 "cells": [
  {
   "cell_type": "code",
   "execution_count": 1,
   "metadata": {},
   "outputs": [],
   "source": [
    "import pandas as pd\n",
    "import seaborn as sns\n",
    "import matplotlib.pyplot as plt"
   ]
  },
  {
   "cell_type": "code",
   "execution_count": 6,
   "metadata": {},
   "outputs": [
    {
     "name": "stdout",
     "output_type": "stream",
     "text": [
      "    Invoice ID Branch       City Customer type  Gender  \\\n",
      "0  750-67-8428      A     Yangon        Member  Female   \n",
      "1  226-31-3081      C  Naypyitaw        Normal  Female   \n",
      "2  631-41-3108      A     Yangon        Normal    Male   \n",
      "3  123-19-1176      A     Yangon        Member    Male   \n",
      "4  373-73-7910      A     Yangon        Normal    Male   \n",
      "\n",
      "             Product line  Unit price  Quantity   Tax 5%     Total       Date  \\\n",
      "0       Health and beauty       74.69         7  26.1415  548.9715   1/5/2019   \n",
      "1  Electronic accessories       15.28         5   3.8200   80.2200   3/8/2019   \n",
      "2      Home and lifestyle       46.33         7  16.2155  340.5255   3/3/2019   \n",
      "3       Health and beauty       58.22         8  23.2880  489.0480  1/27/2019   \n",
      "4       Sports and travel       86.31         7  30.2085  634.3785   2/8/2019   \n",
      "\n",
      "    Time      Payment    cogs  gross margin percentage  gross income  Rating  \n",
      "0  13:08      Ewallet  522.83                 4.761905       26.1415     9.1  \n",
      "1  10:29         Cash   76.40                 4.761905        3.8200     9.6  \n",
      "2  13:23  Credit card  324.31                 4.761905       16.2155     7.4  \n",
      "3  20:33      Ewallet  465.76                 4.761905       23.2880     8.4  \n",
      "4  10:37      Ewallet  604.17                 4.761905       30.2085     5.3  \n"
     ]
    }
   ],
   "source": [
    "df = pd.read_csv(\"supermarket_sales.csv\")\n",
    "print(df.head())"
   ]
  },
  {
   "cell_type": "code",
   "execution_count": 12,
   "metadata": {},
   "outputs": [
    {
     "name": "stdout",
     "output_type": "stream",
     "text": [
      "    Invoice ID Branch       City Customer type  Gender  \\\n",
      "0  750-67-8428      A     Yangon        Member  Female   \n",
      "1  226-31-3081      C  Naypyitaw        Normal  Female   \n",
      "2  631-41-3108      A     Yangon        Normal    Male   \n",
      "3  123-19-1176      A     Yangon        Member    Male   \n",
      "4  373-73-7910      A     Yangon        Normal    Male   \n",
      "\n",
      "             Product line  Unit price  Quantity   Tax 5%     Total       Date  \\\n",
      "0       Health and beauty       74.69         7  26.1415  548.9715 2019-01-05   \n",
      "1  Electronic accessories       15.28         5   3.8200   80.2200 2019-03-08   \n",
      "2      Home and lifestyle       46.33         7  16.2155  340.5255 2019-03-03   \n",
      "3       Health and beauty       58.22         8  23.2880  489.0480 2019-01-27   \n",
      "4       Sports and travel       86.31         7  30.2085  634.3785 2019-02-08   \n",
      "\n",
      "                 Time      Payment    cogs  gross margin percentage  \\\n",
      "0 2025-02-26 13:08:00      Ewallet  522.83                 4.761905   \n",
      "1 2025-02-26 10:29:00         Cash   76.40                 4.761905   \n",
      "2 2025-02-26 13:23:00  Credit card  324.31                 4.761905   \n",
      "3 2025-02-26 20:33:00      Ewallet  465.76                 4.761905   \n",
      "4 2025-02-26 10:37:00      Ewallet  604.17                 4.761905   \n",
      "\n",
      "   gross income  Rating     Month  Year       Day  \n",
      "0       26.1415     9.1   January  2019  Saturday  \n",
      "1        3.8200     9.6     March  2019    Friday  \n",
      "2       16.2155     7.4     March  2019    Sunday  \n",
      "3       23.2880     8.4   January  2019    Sunday  \n",
      "4       30.2085     5.3  February  2019    Friday  \n"
     ]
    }
   ],
   "source": [
    "df['Date'] = pd.to_datetime(df['Date'])\n",
    "df['Month'] = df['Date'].dt.month_name()\n",
    "df['Year'] = df['Date'].dt.year\n",
    "df['Day'] = df['Date'].dt.day_name()\n",
    "df['Time'] = pd.to_datetime(df['Time'])\n",
    "\n",
    "print(df.head())\n"
   ]
  },
  {
   "cell_type": "code",
   "execution_count": 14,
   "metadata": {},
   "outputs": [
    {
     "name": "stdout",
     "output_type": "stream",
     "text": [
      "    Invoice ID Branch       City Customer type  Gender  \\\n",
      "0  750-67-8428      A     Yangon        Member  Female   \n",
      "1  226-31-3081      C  Naypyitaw        Normal  Female   \n",
      "2  631-41-3108      A     Yangon        Normal    Male   \n",
      "3  123-19-1176      A     Yangon        Member    Male   \n",
      "4  373-73-7910      A     Yangon        Normal    Male   \n",
      "\n",
      "             Product line  Unit price  Quantity   Tax 5%     Total  ...  \\\n",
      "0       Health and beauty       74.69         7  26.1415  548.9715  ...   \n",
      "1  Electronic accessories       15.28         5   3.8200   80.2200  ...   \n",
      "2      Home and lifestyle       46.33         7  16.2155  340.5255  ...   \n",
      "3       Health and beauty       58.22         8  23.2880  489.0480  ...   \n",
      "4       Sports and travel       86.31         7  30.2085  634.3785  ...   \n",
      "\n",
      "                 Time      Payment    cogs  gross margin percentage  \\\n",
      "0 2025-02-26 13:08:00      Ewallet  522.83                 4.761905   \n",
      "1 2025-02-26 10:29:00         Cash   76.40                 4.761905   \n",
      "2 2025-02-26 13:23:00  Credit card  324.31                 4.761905   \n",
      "3 2025-02-26 20:33:00      Ewallet  465.76                 4.761905   \n",
      "4 2025-02-26 10:37:00      Ewallet  604.17                 4.761905   \n",
      "\n",
      "   gross income  Rating     Month  Year       Day Hour  \n",
      "0       26.1415     9.1   January  2019  Saturday   13  \n",
      "1        3.8200     9.6     March  2019    Friday   10  \n",
      "2       16.2155     7.4     March  2019    Sunday   13  \n",
      "3       23.2880     8.4   January  2019    Sunday   20  \n",
      "4       30.2085     5.3  February  2019    Friday   10  \n",
      "\n",
      "[5 rows x 21 columns]\n"
     ]
    }
   ],
   "source": [
    "df['Hour'] = pd.to_datetime(df['Time']).dt.hour\n",
    "print(df.head())"
   ]
  }
 ],
 "metadata": {
  "kernelspec": {
   "display_name": "Python 3",
   "language": "python",
   "name": "python3"
  },
  "language_info": {
   "codemirror_mode": {
    "name": "ipython",
    "version": 3
   },
   "file_extension": ".py",
   "mimetype": "text/x-python",
   "name": "python",
   "nbconvert_exporter": "python",
   "pygments_lexer": "ipython3",
   "version": "3.12.4"
  }
 },
 "nbformat": 4,
 "nbformat_minor": 2
}
